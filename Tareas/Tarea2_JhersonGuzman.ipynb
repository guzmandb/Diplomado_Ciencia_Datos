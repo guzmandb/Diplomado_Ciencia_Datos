{
 "cells": [
  {
   "attachments": {},
   "cell_type": "markdown",
   "metadata": {},
   "source": [
    "# Tarea 2 - Funciones\n",
    "\n",
    "**Elaborado por:** \n",
    "    \n",
    "    - Jherson Guzman Ramirez / jheguzmanram@unal.edu.co\n",
    "\n",
    "*Curso de Inteligencia Artificial / 2023-I* \n",
    "\n",
    "*Universidad Nacional de Colombia - Sede Bogotá*\n",
    "\n",
    "**Profesor: Alvaro Montenegro**\n",
    "\n",
    "14 de junio de 2023"
   ]
  },
  {
   "attachments": {},
   "cell_type": "markdown",
   "metadata": {},
   "source": [
    "[![Abrir en Colab](https://colab.research.google.com/assets/colab-badge.svg)](https://colab.research.google.com/github/guzmandb/Diplomado_Ciencia_Datos/blob/main/Tareas/Tarea1_JhersonGuzman.ipynb)"
   ]
  },
  {
   "cell_type": "code",
   "execution_count": null,
   "metadata": {},
   "outputs": [],
   "source": [
    "# 1. Escriba una función  que reciba la fecha de nacimiento de una persona y calcule la edad de la persona\n",
    "from datetime import date\n",
    "from dateutil.relativedelta import relativedelta\n",
    "import datetime\n",
    "import pandas as pd\n",
    "\n",
    "def Calcular_Edad(fecha_nacimiento):\n",
    "    edad = date.today().year - fecha_nacimiento.year\n",
    "    cumpleanio = fecha_nacimiento + relativedelta(years=edad)\n",
    "    if cumpleanio > date.today():\n",
    "        edad = edad - 1\n",
    "    return edad\n",
    "\n",
    "# formato año, mes, día\n",
    "fecha_nacimiento = date(1990, 12, 7)\n",
    "edad = Calcular_Edad(fecha_nacimiento)\n",
    "print(f\"La edad para una persona del {fecha_nacimiento} es: {edad}\")\n",
    "\n",
    "print(\"Ahora digite su año de nacimiento\")\n",
    "anio_nac_input = int(input())\n",
    "print(\"Ahora digite su mes de nacimiento\")\n",
    "mes_nac_input = int(input())\n",
    "print(\"Ahora digite su dia de nacimiento\")\n",
    "dia_nac_input = int(input())\n",
    "fecha_nacimiento_input = datetime.date(anio_nac_input,mes_nac_input,dia_nac_input)\n",
    "edad_input = Calcular_Edad(fecha_nacimiento_input)\n",
    "print(f\"Su edad es: {edad_input}\")"
   ]
  },
  {
   "cell_type": "code",
   "execution_count": 4,
   "metadata": {},
   "outputs": [
    {
     "name": "stdout",
     "output_type": "stream",
     "text": [
      "                Esta es la prueba de la función EscribirCentrado\n",
      "                      Otra prueba de que centra la función\n"
     ]
    }
   ],
   "source": [
    "# 2. Crea una función EscribirCentrado, que reciba como parámetro un texto y lo escriba centrado en pantalla (suponiendo una anchura de 80 columnas; pista: deberás escribir 40 - longitud/2 espacios antes del texto).  \n",
    "def EscribirCentrado(texto):\n",
    "    longitud = len(texto)\n",
    "    espacios = 40 - longitud // 2\n",
    "    print(\" \" * espacios + texto)\n",
    "\n",
    "texto = \"Esta es la prueba de la función EscribirCentrado\"\n",
    "EscribirCentrado(texto)\n",
    "\n",
    "texto_input = str(input(\"Ahora digite el texto:\"))\n",
    "EscribirCentrado(texto_input)"
   ]
  },
  {
   "cell_type": "code",
   "execution_count": 6,
   "metadata": {},
   "outputs": [
    {
     "name": "stdout",
     "output_type": "stream",
     "text": [
      "**_Estamos probando el decorador de markdown_**\n",
      "**_Hola, los decoradores son geniales_**\n"
     ]
    }
   ],
   "source": [
    "#3. Construya una función decorada que reciba un texto y lo escriba marcado con Markdown en itálica y resaltada (bold). Revise la lección de decoradores, no vista en clase.\n",
    "\n",
    "def FuncionMarkdownDecorador(func):\n",
    "    def decorador(texto):\n",
    "        return f\"**_{func(texto)}_**\"\n",
    "    return decorador\n",
    "\n",
    "@FuncionMarkdownDecorador\n",
    "def texto_ingresado(texto):\n",
    "    return texto\n",
    "\n",
    "print(texto_ingresado(\"Estamos probando el decorador de markdown\"))\n",
    "\n",
    "print(texto_ingresado(str(input(\"Digite texto para poder convertirlo a negrilla y cursiva en Markdown\"))))"
   ]
  },
  {
   "cell_type": "code",
   "execution_count": 9,
   "metadata": {},
   "outputs": [
    {
     "name": "stdout",
     "output_type": "stream",
     "text": [
      "12 es múltiplo de 4 o viceversa.\n"
     ]
    }
   ],
   "source": [
    "def EsMultiplo(numero1, numero2):\n",
    "    if numero1 % numero2 == 0 or numero2 % numero1 == 0:\n",
    "        print(f\"{numero1} es múltiplo de {numero2} o al revés.\")\n",
    "    else:\n",
    "        print(f\"{numero1} y {numero2} no son múltiplos entre sí.\")\n",
    "\n",
    "numero1 = int(input(\"Digite el primer número: \"))\n",
    "numero2 = int(input(\"Digite el segundo número: \"))\n",
    "\n",
    "EsMultiplo(numero1, numero2)\n"
   ]
  },
  {
   "cell_type": "code",
   "execution_count": 17,
   "metadata": {},
   "outputs": [
    {
     "name": "stdout",
     "output_type": "stream",
     "text": [
      "La temperatura media en Bogotá hoy fue de 16.79 grados\n"
     ]
    }
   ],
   "source": [
    "#5. Crear una función re reciba una lista  de 24 valores de temperatura leída  hora en un día y que calcule la temperatura media  Cree una lista con 24 valores de temperatura de un día de Bogotá y pruebe su función. Invente los datos.\n",
    "def TemperaturaMedia(temperaturas_durante_dia):\n",
    "    suma_temperaturas = sum(temperaturas_durante_dia)\n",
    "    media_temperaturas = suma_temperaturas / len(temperaturas_durante_dia)\n",
    "    return media_temperaturas\n",
    "\n",
    "temperaturas_dia_bogota = [12, 13, 14, 18, 19, 18, 18, 21, 20, 21, 17, 16,\n",
    "                       17, 18, 19, 22, 23, 18, 17, 16, 13, 10, 12, 11]\n",
    "\n",
    "media_temperaturas_en_bogota = TemperaturaMedia(temperaturas_dia_bogota)\n",
    "\n",
    "print(f\"La temperatura media en Bogotá hoy fue de {media_temperaturas_en_bogota:.2f} grados\")"
   ]
  },
  {
   "cell_type": "code",
   "execution_count": 12,
   "metadata": {},
   "outputs": [
    {
     "name": "stdout",
     "output_type": "stream",
     "text": [
      "Texto original: Hola, tú\n",
      "Texto con espaciado adicional: H o l a ,   t ú \n"
     ]
    }
   ],
   "source": [
    "# 5. Crea un función “ConvertirEspaciado”, que reciba como parámetro un texto y devuelve una cadena con un espacio adicional tras cada letra. Por ejemplo, “Hola, tú” devolverá “H o l a , t ú “.  Pruebe \n",
    "def ConvertirEspaciado(texto):\n",
    "    texto_con_espacio = \"\"\n",
    "    for letra in texto:\n",
    "        texto_con_espacio += letra + \" \"\n",
    "    return texto_con_espacio\n",
    "\n",
    "texto_original = \"Hola, tú\"\n",
    "texto_con_espacio = ConvertirEspaciado(texto_original)\n",
    "\n",
    "print(f\"Texto original: {texto_original}\")\n",
    "print(f\"Texto con espaciado adicional: {texto_con_espacio}\")"
   ]
  },
  {
   "cell_type": "code",
   "execution_count": 15,
   "metadata": {},
   "outputs": [
    {
     "name": "stdout",
     "output_type": "stream",
     "text": [
      "El valor máximo es 9999990459 y el valor mínimo es 27.\n"
     ]
    }
   ],
   "source": [
    "\n",
    "def calcularMaxMin(numeros):\n",
    "    maximo = max(numeros)\n",
    "    minimo = min(numeros)\n",
    "    return maximo, minimo\n",
    "\n",
    "listaNumeros = [1265, 241541, 300041524, 4141, 45, 546, 27, 54545468, 9999990459]\n",
    "\n",
    "max_num, min_num = calcularMaxMin(listaNumeros)\n",
    "\n",
    "print(f\"El valor máximo es {max_num} y el valor mínimo es {min_num}.\")"
   ]
  },
  {
   "cell_type": "code",
   "execution_count": 21,
   "metadata": {},
   "outputs": [
    {
     "name": "stdout",
     "output_type": "stream",
     "text": [
      "Para un radio radio 14.465451. \n",
      " El perímetro de la circunferencia que tiene es: 90.89 \n",
      " Y el área es: 657.38.\n",
      "Para un radio 4454.645. \n",
      " El perímetro de la circunferencia que tiene es: 27989.36 \n",
      " Y el área es: 62341331.32.\n"
     ]
    }
   ],
   "source": [
    "# 7.  Diseñar una función que calcule el área y el perímetro de una circunferencia. \n",
    "import math\n",
    "\n",
    "def CalcularCircunferencia(radio):\n",
    "    perimetro = 2 * math.pi * radio\n",
    "    area = math.pi * radio ** 2\n",
    "    return perimetro, area\n",
    "\n",
    "radio=14.465451\n",
    "perimetro, area = CalcularCircunferencia(radio)\n",
    "print(f\"Para un radio radio {radio}. \\n El perímetro de la circunferencia que tiene es: {perimetro:.2f} \\n Y el área es: {area:.2f}.\")\n",
    "\n",
    "radio_input = float(input(\"Digite el radio de la circunferencia: \"))\n",
    "\n",
    "perimetro_input, area_input = CalcularCircunferencia(radio_input)\n",
    "\n",
    "print(f\"Para un radio {radio_input}. \\n El perímetro de la circunferencia que tiene es: {perimetro_input:.2f} \\n Y el área es: {area_input:.2f}.\")"
   ]
  },
  {
   "cell_type": "code",
   "execution_count": 24,
   "metadata": {},
   "outputs": [
    {
     "name": "stdout",
     "output_type": "stream",
     "text": [
      "Nombre de usuario o contraseña incorrectos.\n",
      "Intentos de inicio de sesión fallidos: 1\n",
      "Nombre de usuario o contraseña incorrectos.\n",
      "Intentos de inicio de sesión fallidos: 2\n",
      "Nombre de usuario o contraseña incorrectos.\n",
      "Intentos de inicio de sesión fallidos: 3\n",
      "Nombre de usuario o contraseña incorrectos.\n",
      "Intentos de inicio de sesión fallidos: 4\n",
      "Nombre de usuario o contraseña incorrectos.\n",
      "Intentos de inicio de sesión fallidos: 5\n",
      "Nombre de usuario o contraseña incorrectos.\n",
      "Intentos de inicio de sesión fallidos: 6\n",
      "Nombre de usuario o contraseña incorrectos.\n",
      "Intentos de inicio de sesión fallidos: 7\n",
      "¡Bienvenido!\n"
     ]
    }
   ],
   "source": [
    "# 8. Crear una función  llamada “Login”, que recibe un nombre de usuario y una contraseña y devuelva Verdadero si el nombre de usuario es “usuario1” y la contraseña es “asdasd”. Además recibe el número de intentos que se ha intentado hacer login y si no se ha podido hacer login incremente este valor.\n",
    "def Login(usuario, contrasena):\n",
    "    intentos = 0\n",
    "    while usuario != \"usuario1\" or contrasena != \"asdasd\":\n",
    "        intentos += 1\n",
    "        print(\"Nombre de usuario o contraseña incorrectos.\")\n",
    "        print(f\"Intentos de inicio de sesión fallidos: {intentos}\")\n",
    "        usuario = input(\"Introduce tu nombre de usuario: \")\n",
    "        contrasena = input(\"Introduce tu contraseña: \")\n",
    "    print(\"Inicio de sesión correcto\")\n",
    "    return True,intentos\n",
    "\n",
    "intentos = Login(input(\"Introduce tu nombre de usuario: \"), input(\"Introduce tu contraseña: \"))\n",
    "\n"
   ]
  }
 ],
 "metadata": {
  "kernelspec": {
   "display_name": "Python 3",
   "language": "python",
   "name": "python3"
  },
  "language_info": {
   "codemirror_mode": {
    "name": "ipython",
    "version": 3
   },
   "file_extension": ".py",
   "mimetype": "text/x-python",
   "name": "python",
   "nbconvert_exporter": "python",
   "pygments_lexer": "ipython3",
   "version": "3.10.10"
  },
  "orig_nbformat": 4,
  "vscode": {
   "interpreter": {
    "hash": "aee8b7b246df8f9039afb4144a1f6fd8d2ca17a180786b69acc140d282b71a49"
   }
  }
 },
 "nbformat": 4,
 "nbformat_minor": 2
}

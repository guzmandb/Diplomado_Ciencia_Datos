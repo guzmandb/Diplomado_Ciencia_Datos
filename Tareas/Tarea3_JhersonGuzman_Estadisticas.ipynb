{
 "cells": [
  {
   "attachments": {},
   "cell_type": "markdown",
   "metadata": {},
   "source": [
    "# Tarea 3 - Programación orientada a objetos - Clase Estadísticas\n",
    "\n",
    "**Elaborado por:** \n",
    "    \n",
    "    - Jherson Guzman Ramirez / jheguzmanram@unal.edu.co\n",
    "\n",
    "*Curso de Inteligencia Artificial / 2023-I* \n",
    "\n",
    "*Universidad Nacional de Colombia - Sede Bogotá*\n",
    "\n",
    "**Profesor: Alvaro Montenegro**\n",
    "\n",
    "15 de junio de 2023"
   ]
  },
  {
   "attachments": {},
   "cell_type": "markdown",
   "metadata": {},
   "source": [
    "3. Escriba una clase con las siguientes funcionalidades:\n",
    "\n",
    "    3.1. Al instanciar un objeto, lee un conjunto de datos numéricos. Por ejemplo puede usar el mismo conjunto de datos iris.csv. Instancie los datos en un dataframe de Pandas\n",
    "\n",
    "    3.2 Implemente un método que calcule las estadísticas descriptivas básicas de cada una de las variables.\n",
    "\n",
    "    3.3 Implemente un método que entregue los nombre de las variables disponibles.\n",
    "\n",
    "    3.3 Implemente un método que reciba el nombre de una variable disponible dentro del objeto ( en el  dataframe) y regrese: sus estadísticas básicas:  media, mediana, desviación, percentiles q25, q50, q75 y dibuje un histograma de la distribución de la variable.\n",
    "    \n",
    "\n",
    "Pruebe su clase."
   ]
  },
  {
   "attachments": {},
   "cell_type": "markdown",
   "metadata": {},
   "source": [
    "[![Abrir en Colab](https://colab.research.google.com/assets/colab-badge.svg)](https://colab.research.google.com/github/guzmandb/Diplomado_Ciencia_Datos/blob/main/Tareas/Tarea3_JhersonGuzman_Estadisticas.ipynb)"
   ]
  },
  {
   "cell_type": "code",
   "execution_count": 6,
   "metadata": {},
   "outputs": [],
   "source": [
    "import pandas as pd\n",
    "import matplotlib.pyplot as plt\n",
    "\n",
    "class EstDescrip:\n",
    "    def __init__(self, archivo_csv):\n",
    "        self.df = pd.read_csv(archivo_csv)\n",
    "        \n",
    "    def est_Basicas(self):\n",
    "        return self.df.describe()\n",
    "    \n",
    "    def nom_Variables(self):\n",
    "        return self.df.columns.tolist()\n",
    "    \n",
    "    def est_Variables(self, variable):\n",
    "        columna = self.df.loc[:, variable]\n",
    "        return columna.describe(), columna.hist()\n"
   ]
  },
  {
   "cell_type": "code",
   "execution_count": 7,
   "metadata": {},
   "outputs": [
    {
     "name": "stdout",
     "output_type": "stream",
     "text": [
      "       sepal_length  sepal_width  petal_length  petal_width  species_id\n",
      "count    150.000000   150.000000    150.000000   150.000000  150.000000\n",
      "mean       5.843333     3.054000      3.758667     1.198667    2.000000\n",
      "std        0.828066     0.433594      1.764420     0.763161    0.819232\n",
      "min        4.300000     2.000000      1.000000     0.100000    1.000000\n",
      "25%        5.100000     2.800000      1.600000     0.300000    1.000000\n",
      "50%        5.800000     3.000000      4.350000     1.300000    2.000000\n",
      "75%        6.400000     3.300000      5.100000     1.800000    3.000000\n",
      "max        7.900000     4.400000      6.900000     2.500000    3.000000\n",
      "['sepal_length', 'sepal_width', 'petal_length', 'petal_width', 'species', 'species_id']\n",
      "(count    150.000000\n",
      "mean       5.843333\n",
      "std        0.828066\n",
      "min        4.300000\n",
      "25%        5.100000\n",
      "50%        5.800000\n",
      "75%        6.400000\n",
      "max        7.900000\n",
      "Name: sepal_length, dtype: float64, <Axes: >)\n"
     ]
    },
    {
     "data": {
      "image/png": "[encoded data removed]",
      "text/plain": [
       "<Figure size 640x480 with 1 Axes>"
      ]
     },
     "metadata": {},
     "output_type": "display_data"
    }
   ],
   "source": [
    "estadisticas = EstDescrip('/Users/jherguz/Desktop/iris.csv')\n",
    "print(estadisticas.est_Basicas())\n",
    "print(estadisticas.nom_Variables())\n",
    "print(estadisticas.est_Variables('sepal_length'))"
   ]
  }
 ],
 "metadata": {
  "kernelspec": {
   "display_name": "Python 3",
   "language": "python",
   "name": "python3"
  },
  "language_info": {
   "codemirror_mode": {
    "name": "ipython",
    "version": 3
   },
   "file_extension": ".py",
   "mimetype": "text/x-python",
   "name": "python",
   "nbconvert_exporter": "python",
   "pygments_lexer": "ipython3",
   "version": "3.10.10"
  },
  "orig_nbformat": 4
 },
 "nbformat": 4,
 "nbformat_minor": 2
}

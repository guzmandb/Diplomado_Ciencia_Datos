{
 "cells": [
  {
   "cell_type": "markdown",
   "id": "6f834cd9",
   "metadata": {},
   "source": [
    "# Tarea 1 - Concepto de ciencia de datos: Análisis de Componentes Principales"
   ]
  },
  {
   "attachments": {},
   "cell_type": "markdown",
   "id": "70b4c8fe",
   "metadata": {},
   "source": [
    "[![Abrir en Colab](https://colab.research.google.com/assets/colab-badge.svg)](https://colab.research.google.com/github/guzmandb/Diplomado_Ciencia_Datos/blob/main/Tareas/Tarea1_JhersonGuzman.ipynb)\n",
    "\n",
    "*Añadido en el segundo commit*"
   ]
  },
  {
   "attachments": {},
   "cell_type": "markdown",
   "id": "ae7aefcc",
   "metadata": {},
   "source": [
    "(Logo PCA)\n",
    "<img src=\"https://miro.medium.com/max/596/1*QinDfRawRskupf4mU5bYSA.png\">\n",
    "(Logo Python)\n",
    "<img src=\"https://logos-world.net/wp-content/uploads/2021/10/Python-Symbol.png\">"
   ]
  },
  {
   "attachments": {},
   "cell_type": "markdown",
   "id": "3d8f80a4",
   "metadata": {},
   "source": [
    "**Elaborado por:** \n",
    "    \n",
    "    - Jherson Guzman Ramirez / 1032491453 / jheguzmanram@unal.edu.co\n",
    "\n",
    "*Curso de Inteligencia Artificial / 2023-I* \n",
    "\n",
    "*Universidad Nacional de Colombia - Sede Bogotá*\n",
    "\n",
    "**Profesor: Alvaro Montenegro**\n",
    "\n",
    "13 de febrero de 2023"
   ]
  },
  {
   "attachments": {},
   "cell_type": "markdown",
   "id": "47884d5a",
   "metadata": {},
   "source": [
    "## Sobre el autor\n",
    "\n",
    "**Jherson Guzman Ramirez** es un estudiante de la carrera de Estadística que cursa actualmente séptimo semestre en la Universidad Nacional de Colombia, Sede Bogotá. \n",
    "\n",
    "Tiene 25 años, es oriundo de Bogotá, dentro de sus hobbies se encuentra montar bicicleta, hacer ecoturismo, viajar y aprender acerca de diferentes culturas.\n",
    "\n",
    "Es una persona ética, responsable y dispuesto a aprender mucho acerca de temáticas relacioanadas con la Ciencia de los Datos y sus múltiples ramas. "
   ]
  },
  {
   "cell_type": "markdown",
   "id": "6b34252e",
   "metadata": {},
   "source": [
    "<img src=\"https://avatars.githubusercontent.com/u/46854359?v=4\">"
   ]
  },
  {
   "cell_type": "markdown",
   "id": "461b8933",
   "metadata": {},
   "source": [
    "# Análisis de Componentes Principales"
   ]
  },
  {
   "cell_type": "markdown",
   "id": "112dd395",
   "metadata": {},
   "source": [
    "Conocido como PCA, es un método estadístico que permite simplificar la complejidad de espacios muestrales con muchas dimensiones conservando las información.\n",
    "\n",
    "Si se tiene una muestra de $n$ individuos con $p$ variables $(X_{1},X_{2},\\dots,X_{p})$. PCA permite hallar un número de factores factores subayecente $(z < p)$ que explica en su mayoría las $p$ variables originales. $z$ se conocen como componentes principales.\n",
    "\n",
    "El $PCA$ pertenece a las técnicas de Aprendizaje no supervisado. "
   ]
  },
  {
   "cell_type": "markdown",
   "id": "2fce0b7b",
   "metadata": {},
   "source": [
    "## Cálculo de componentes principales"
   ]
  },
  {
   "cell_type": "markdown",
   "id": "9617a747",
   "metadata": {},
   "source": [
    "Cada componente principal $(Z_{i})$ se obtiene por combinación lineal de las variables originales. Se pueden entender como nuevas variables obtenidas al combinar de una determinada forma las variables originales. \n",
    "\n",
    "La primera componente principal de un grupo de variables $(X_{1}, X_{2}, \\dots , X_{p})$ es la combinación lineal normalizada de dichas variables que tiene mayor varianza:\n",
    "\n",
    "$$Z_{1}=\\phi_{11}X_{1}+\\phi_{21}X_{2}+\\dots+\\phi{p1}X_{p}$$\n",
    "\n",
    "El hecho que la combinación lineal sea normalizada implica que:\n",
    "\n",
    "$$\\sum_{j=1}^{p} \\phi^{2}_{j1} = 1$$\n",
    "\n",
    "Los términos $\\phi_{11},\\dots,\\phi_{1p}$ reciben en el nombre de loadings y son los que definen a la componente correspondiente. Se pueden entender como el peso que tiene cada variable en cada componente.\n",
    "\n",
    "Para un conjunto de datos $X$ con $n$ observaciones y $p$ variable, los pasos para *calcular la primera componente principal* es:\n",
    "\n",
    "- Centralización de las variables: se resta a cada valor la media de la variable a la que pertenece.\n",
    "\n",
    "- Se resuelve un problema de optimización para encontrar el valor de los loadings con los que se maximiza la varianza. Puede ser neduabte el cálculo de los eigenvalores-vectores de la matriz de covarianzas\n",
    "\n",
    "Una vez calculada la primera componente $(Z_{1})$ se calcula la segunda $(Z_{2})$ repitiendo el mismo proceso, pero añadiendo la condición de que la combinación lineal no pude estar correlacionada con la primera componente. EL proceso se repite de forma iterativa hasta calcular todas las posibles componentes $(min(n-1, p))$ o se decida detenerse"
   ]
  },
  {
   "cell_type": "markdown",
   "id": "544c2c3d",
   "metadata": {},
   "source": [
    "## Ejemplo"
   ]
  },
  {
   "cell_type": "markdown",
   "id": "6911fec8",
   "metadata": {},
   "source": [
    "#### Extraído de referencia [2]"
   ]
  },
  {
   "cell_type": "markdown",
   "id": "ad44277c",
   "metadata": {},
   "source": [
    "Utilizaremos Python para realizar el Análisis de Componentes Principales del dataset **USArrests** contiene el porcentaje de asaltos *(Assault)*, asesinatos *(Murder)* y secuestros *(Rape)* por cada 100,000 habitantes para cada uno de los 50 estados de USA en 1973"
   ]
  },
  {
   "cell_type": "code",
   "execution_count": 9,
   "id": "6d2fddee",
   "metadata": {},
   "outputs": [],
   "source": [
    "#Importación de librerías para tratamiento de datos, gráficos\n",
    "import numpy as np\n",
    "import pandas as pd\n",
    "import statsmodels.api as sm\n",
    "\n",
    "import matplotlib.pyplot as plt\n",
    "import matplotlib.font_manager\n",
    "from matplotlib import style\n",
    "style.use('ggplot') or plt.style.use('ggplot')\n",
    "\n",
    "from sklearn.decomposition import PCA\n",
    "from sklearn.pipeline import make_pipeline\n",
    "from sklearn.preprocessing import StandardScaler\n",
    "from sklearn.preprocessing import scale\n"
   ]
  },
  {
   "cell_type": "code",
   "execution_count": 10,
   "id": "ff99e131",
   "metadata": {},
   "outputs": [],
   "source": [
    "USArrests = sm.datasets.get_rdataset(\"USArrests\", \"datasets\")\n",
    "\n",
    "datos = USArrests.data"
   ]
  },
  {
   "cell_type": "code",
   "execution_count": 13,
   "id": "e7565b15",
   "metadata": {},
   "outputs": [
    {
     "name": "stdout",
     "output_type": "stream",
     "text": [
      "<class 'pandas.core.frame.DataFrame'>\n",
      "Index: 50 entries, Alabama to Wyoming\n",
      "Data columns (total 4 columns):\n",
      " #   Column    Non-Null Count  Dtype  \n",
      "---  ------    --------------  -----  \n",
      " 0   Murder    50 non-null     float64\n",
      " 1   Assault   50 non-null     int64  \n",
      " 2   UrbanPop  50 non-null     int64  \n",
      " 3   Rape      50 non-null     float64\n",
      "dtypes: float64(2), int64(2)\n",
      "memory usage: 2.0+ KB\n"
     ]
    },
    {
     "data": {
      "text/html": [
       "<div>\n",
       "<style scoped>\n",
       "    .dataframe tbody tr th:only-of-type {\n",
       "        vertical-align: middle;\n",
       "    }\n",
       "\n",
       "    .dataframe tbody tr th {\n",
       "        vertical-align: top;\n",
       "    }\n",
       "\n",
       "    .dataframe thead th {\n",
       "        text-align: right;\n",
       "    }\n",
       "</style>\n",
       "<table border=\"1\" class=\"dataframe\">\n",
       "  <thead>\n",
       "    <tr style=\"text-align: right;\">\n",
       "      <th></th>\n",
       "      <th>Murder</th>\n",
       "      <th>Assault</th>\n",
       "      <th>UrbanPop</th>\n",
       "      <th>Rape</th>\n",
       "    </tr>\n",
       "  </thead>\n",
       "  <tbody>\n",
       "    <tr>\n",
       "      <th>Alabama</th>\n",
       "      <td>13.2</td>\n",
       "      <td>236</td>\n",
       "      <td>58</td>\n",
       "      <td>21.2</td>\n",
       "    </tr>\n",
       "    <tr>\n",
       "      <th>Alaska</th>\n",
       "      <td>10.0</td>\n",
       "      <td>263</td>\n",
       "      <td>48</td>\n",
       "      <td>44.5</td>\n",
       "    </tr>\n",
       "    <tr>\n",
       "      <th>Arizona</th>\n",
       "      <td>8.1</td>\n",
       "      <td>294</td>\n",
       "      <td>80</td>\n",
       "      <td>31.0</td>\n",
       "    </tr>\n",
       "    <tr>\n",
       "      <th>Arkansas</th>\n",
       "      <td>8.8</td>\n",
       "      <td>190</td>\n",
       "      <td>50</td>\n",
       "      <td>19.5</td>\n",
       "    </tr>\n",
       "  </tbody>\n",
       "</table>\n",
       "</div>"
      ],
      "text/plain": [
       "          Murder  Assault  UrbanPop  Rape\n",
       "Alabama     13.2      236        58  21.2\n",
       "Alaska      10.0      263        48  44.5\n",
       "Arizona      8.1      294        80  31.0\n",
       "Arkansas     8.8      190        50  19.5"
      ]
     },
     "execution_count": 13,
     "metadata": {},
     "output_type": "execute_result"
    }
   ],
   "source": [
    "print('Resumen y primeros 4 datos del dataset')\n",
    "datos.info()\n",
    "\n",
    "datos.head(4)"
   ]
  },
  {
   "cell_type": "code",
   "execution_count": 17,
   "id": "6efef93b",
   "metadata": {},
   "outputs": [
    {
     "name": "stdout",
     "output_type": "stream",
     "text": [
      "Media de cada variable\n"
     ]
    },
    {
     "data": {
      "text/plain": [
       "Murder        7.788\n",
       "Assault     170.760\n",
       "UrbanPop     65.540\n",
       "Rape         21.232\n",
       "dtype: float64"
      ]
     },
     "execution_count": 17,
     "metadata": {},
     "output_type": "execute_result"
    }
   ],
   "source": [
    "print('Media de cada variable')\n",
    "datos.mean(axis=0)"
   ]
  },
  {
   "cell_type": "code",
   "execution_count": 16,
   "id": "8a863901",
   "metadata": {},
   "outputs": [
    {
     "name": "stdout",
     "output_type": "stream",
     "text": [
      "Varianza de cada variable\n"
     ]
    },
    {
     "data": {
      "text/plain": [
       "Murder        18.970465\n",
       "Assault     6945.165714\n",
       "UrbanPop     209.518776\n",
       "Rape          87.729159\n",
       "dtype: float64"
      ]
     },
     "execution_count": 16,
     "metadata": {},
     "output_type": "execute_result"
    }
   ],
   "source": [
    "print('Varianza de cada variable')\n",
    "datos.var(axis=0)"
   ]
  },
  {
   "cell_type": "code",
   "execution_count": 19,
   "id": "2004f7cd",
   "metadata": {},
   "outputs": [],
   "source": [
    "# Entrenamiento modelo PCA con escalado de los datos\n",
    "pca_pipe = make_pipeline(StandardScaler(), PCA())\n",
    "pca_pipe.fit(datos)\n",
    "\n",
    "# Se extrae el modelo entrenado del pipeline\n",
    "modelo_pca = pca_pipe.named_steps['pca']"
   ]
  },
  {
   "cell_type": "code",
   "execution_count": 20,
   "id": "a9336585",
   "metadata": {},
   "outputs": [
    {
     "data": {
      "text/html": [
       "<div>\n",
       "<style scoped>\n",
       "    .dataframe tbody tr th:only-of-type {\n",
       "        vertical-align: middle;\n",
       "    }\n",
       "\n",
       "    .dataframe tbody tr th {\n",
       "        vertical-align: top;\n",
       "    }\n",
       "\n",
       "    .dataframe thead th {\n",
       "        text-align: right;\n",
       "    }\n",
       "</style>\n",
       "<table border=\"1\" class=\"dataframe\">\n",
       "  <thead>\n",
       "    <tr style=\"text-align: right;\">\n",
       "      <th></th>\n",
       "      <th>Murder</th>\n",
       "      <th>Assault</th>\n",
       "      <th>UrbanPop</th>\n",
       "      <th>Rape</th>\n",
       "    </tr>\n",
       "  </thead>\n",
       "  <tbody>\n",
       "    <tr>\n",
       "      <th>PC1</th>\n",
       "      <td>0.535899</td>\n",
       "      <td>0.583184</td>\n",
       "      <td>0.278191</td>\n",
       "      <td>0.543432</td>\n",
       "    </tr>\n",
       "    <tr>\n",
       "      <th>PC2</th>\n",
       "      <td>0.418181</td>\n",
       "      <td>0.187986</td>\n",
       "      <td>-0.872806</td>\n",
       "      <td>-0.167319</td>\n",
       "    </tr>\n",
       "    <tr>\n",
       "      <th>PC3</th>\n",
       "      <td>-0.341233</td>\n",
       "      <td>-0.268148</td>\n",
       "      <td>-0.378016</td>\n",
       "      <td>0.817778</td>\n",
       "    </tr>\n",
       "    <tr>\n",
       "      <th>PC4</th>\n",
       "      <td>0.649228</td>\n",
       "      <td>-0.743407</td>\n",
       "      <td>0.133878</td>\n",
       "      <td>0.089024</td>\n",
       "    </tr>\n",
       "  </tbody>\n",
       "</table>\n",
       "</div>"
      ],
      "text/plain": [
       "       Murder   Assault  UrbanPop      Rape\n",
       "PC1  0.535899  0.583184  0.278191  0.543432\n",
       "PC2  0.418181  0.187986 -0.872806 -0.167319\n",
       "PC3 -0.341233 -0.268148 -0.378016  0.817778\n",
       "PC4  0.649228 -0.743407  0.133878  0.089024"
      ]
     },
     "execution_count": 20,
     "metadata": {},
     "output_type": "execute_result"
    }
   ],
   "source": [
    "# Se convierte el array a dataframe para añadir nombres a los ejes.\n",
    "pd.DataFrame(\n",
    "    data    = modelo_pca.components_,\n",
    "    columns = datos.columns,\n",
    "    index   = ['PC1', 'PC2', 'PC3', 'PC4']\n",
    ")"
   ]
  },
  {
   "cell_type": "markdown",
   "id": "99758365",
   "metadata": {},
   "source": [
    "La primera componente es el resultado de la siguiente combinación de las variables originales"
   ]
  },
  {
   "cell_type": "markdown",
   "id": "a4694a3a",
   "metadata": {},
   "source": [
    "$PC1 = 0.535899 \\textrm{ Murder}+0.583184 \\textrm{ Assault}+0.278191 \\textrm{ UrbanPop}+0.543432 \\textrm{ Rape}$"
   ]
  },
  {
   "cell_type": "markdown",
   "id": "2da7d9cd",
   "metadata": {},
   "source": [
    "Y así consecuentemente para las componentes $PC2, PC3, PC4$\n",
    "\n",
    "La influencia de las variables en cada componente analizarse visualmente con un gráfico de tipo heatmap."
   ]
  },
  {
   "cell_type": "code",
   "execution_count": 22,
   "id": "b9aac7bc",
   "metadata": {},
   "outputs": [
    {
     "data": {
      "image/png": "[encoded data removed]",
      "text/plain": [
       "<Figure size 400x200 with 2 Axes>"
      ]
     },
     "metadata": {},
     "output_type": "display_data"
    }
   ],
   "source": [
    "fig, ax = plt.subplots(nrows=1, ncols=1, figsize=(4, 2))\n",
    "componentes = modelo_pca.components_\n",
    "plt.imshow(componentes.T, cmap='viridis', aspect='auto')\n",
    "plt.yticks(range(len(datos.columns)), datos.columns)\n",
    "plt.xticks(range(len(datos.columns)), np.arange(modelo_pca.n_components_) + 1)\n",
    "plt.grid(False)\n",
    "plt.colorbar();"
   ]
  },
  {
   "cell_type": "markdown",
   "id": "c4be63de",
   "metadata": {},
   "source": [
    "Una vez calculadas las componentes principales, se puede conocer **la varianza explicada por cada una de ellas, la proporción respecto al total y la proporción de varianza acumulada**"
   ]
  },
  {
   "cell_type": "code",
   "execution_count": 25,
   "id": "7e9bea34",
   "metadata": {},
   "outputs": [
    {
     "name": "stdout",
     "output_type": "stream",
     "text": [
      "Porcentaje de varianza explicada por cada componente\n",
      "----------------------------------------------------\n",
      "[0.62006039 0.24744129 0.0891408  0.04335752]\n"
     ]
    },
    {
     "data": {
      "image/png": "[encoded data removed]",
      "text/plain": [
       "<Figure size 600x400 with 1 Axes>"
      ]
     },
     "metadata": {},
     "output_type": "display_data"
    }
   ],
   "source": [
    "print('Porcentaje de varianza explicada por cada componente')\n",
    "print('----------------------------------------------------')\n",
    "print(modelo_pca.explained_variance_ratio_)\n",
    "\n",
    "fig, ax = plt.subplots(nrows=1, ncols=1, figsize=(6, 4))\n",
    "ax.bar(\n",
    "    x      = np.arange(modelo_pca.n_components_) + 1,\n",
    "    height = modelo_pca.explained_variance_ratio_\n",
    ")\n",
    "\n",
    "for x, y in zip(np.arange(len(datos.columns)) + 1, modelo_pca.explained_variance_ratio_):\n",
    "    label = round(y, 2)\n",
    "    ax.annotate(\n",
    "        label,\n",
    "        (x,y),\n",
    "        textcoords=\"offset points\",\n",
    "        xytext=(0,10),\n",
    "        ha='center'\n",
    "    )\n",
    "\n",
    "ax.set_xticks(np.arange(modelo_pca.n_components_) + 1)\n",
    "ax.set_ylim(0, 1.1)\n",
    "ax.set_title('Porcentaje de varianza explicada por cada componente')\n",
    "ax.set_xlabel('Componente principal')\n",
    "ax.set_ylabel('Por. varianza explicada');"
   ]
  },
  {
   "cell_type": "markdown",
   "id": "df9cb831",
   "metadata": {},
   "source": [
    "En este caso, la primera componente explica el $62\\%$ de la varianza observada en los datos y la segunda el $24.7\\%$."
   ]
  },
  {
   "cell_type": "code",
   "execution_count": 27,
   "id": "02e394af",
   "metadata": {},
   "outputs": [
    {
     "name": "stdout",
     "output_type": "stream",
     "text": [
      "Porcentaje de varianza explicada acumulada\n",
      "------------------------------------------\n",
      "[0.62006039 0.86750168 0.95664248 1.        ]\n"
     ]
    },
    {
     "data": {
      "image/png": "[encoded data removed]",
      "text/plain": [
       "<Figure size 600x400 with 1 Axes>"
      ]
     },
     "metadata": {},
     "output_type": "display_data"
    }
   ],
   "source": [
    "prop_varianza_acum = modelo_pca.explained_variance_ratio_.cumsum()\n",
    "print('Porcentaje de varianza explicada acumulada')\n",
    "print('------------------------------------------')\n",
    "print(prop_varianza_acum)\n",
    "\n",
    "fig, ax = plt.subplots(nrows=1, ncols=1, figsize=(6, 4))\n",
    "ax.plot(\n",
    "    np.arange(len(datos.columns)) + 1,\n",
    "    prop_varianza_acum,\n",
    "    marker = 'o'\n",
    ")\n",
    "\n",
    "for x, y in zip(np.arange(len(datos.columns)) + 1, prop_varianza_acum):\n",
    "    label = round(y, 2)\n",
    "    ax.annotate(\n",
    "        label,\n",
    "        (x,y),\n",
    "        textcoords=\"offset points\",\n",
    "        xytext=(0,10),\n",
    "        ha='center'\n",
    "    )\n",
    "    \n",
    "ax.set_ylim(0, 1.1)\n",
    "ax.set_xticks(np.arange(modelo_pca.n_components_) + 1)\n",
    "ax.set_title('Porcentaje de varianza explicada acumulada')\n",
    "ax.set_xlabel('Componente principal')\n",
    "ax.set_ylabel('Por. varianza acumulada');"
   ]
  },
  {
   "cell_type": "markdown",
   "id": "7fc213ab",
   "metadata": {},
   "source": [
    "Si se empleasen únicamente las dos primeras componentes se conseguiría explicar el 87% de la varianza observada."
   ]
  },
  {
   "cell_type": "markdown",
   "id": "aa8fd5ab",
   "metadata": {},
   "source": [
    "Una vez entrenado el modelo, con el método **transform()** se puede reducir la dimensionalidad de nuevas observaciones proyectándolas en el espacio definido por las componentes."
   ]
  },
  {
   "cell_type": "code",
   "execution_count": 28,
   "id": "6dd01f1d",
   "metadata": {},
   "outputs": [
    {
     "data": {
      "text/html": [
       "<div>\n",
       "<style scoped>\n",
       "    .dataframe tbody tr th:only-of-type {\n",
       "        vertical-align: middle;\n",
       "    }\n",
       "\n",
       "    .dataframe tbody tr th {\n",
       "        vertical-align: top;\n",
       "    }\n",
       "\n",
       "    .dataframe thead th {\n",
       "        text-align: right;\n",
       "    }\n",
       "</style>\n",
       "<table border=\"1\" class=\"dataframe\">\n",
       "  <thead>\n",
       "    <tr style=\"text-align: right;\">\n",
       "      <th></th>\n",
       "      <th>PC1</th>\n",
       "      <th>PC2</th>\n",
       "      <th>PC3</th>\n",
       "      <th>PC4</th>\n",
       "    </tr>\n",
       "  </thead>\n",
       "  <tbody>\n",
       "    <tr>\n",
       "      <th>Alabama</th>\n",
       "      <td>0.985566</td>\n",
       "      <td>1.133392</td>\n",
       "      <td>-0.444269</td>\n",
       "      <td>0.156267</td>\n",
       "    </tr>\n",
       "    <tr>\n",
       "      <th>Alaska</th>\n",
       "      <td>1.950138</td>\n",
       "      <td>1.073213</td>\n",
       "      <td>2.040003</td>\n",
       "      <td>-0.438583</td>\n",
       "    </tr>\n",
       "    <tr>\n",
       "      <th>Arizona</th>\n",
       "      <td>1.763164</td>\n",
       "      <td>-0.745957</td>\n",
       "      <td>0.054781</td>\n",
       "      <td>-0.834653</td>\n",
       "    </tr>\n",
       "    <tr>\n",
       "      <th>Arkansas</th>\n",
       "      <td>-0.141420</td>\n",
       "      <td>1.119797</td>\n",
       "      <td>0.114574</td>\n",
       "      <td>-0.182811</td>\n",
       "    </tr>\n",
       "    <tr>\n",
       "      <th>California</th>\n",
       "      <td>2.523980</td>\n",
       "      <td>-1.542934</td>\n",
       "      <td>0.598557</td>\n",
       "      <td>-0.341996</td>\n",
       "    </tr>\n",
       "  </tbody>\n",
       "</table>\n",
       "</div>"
      ],
      "text/plain": [
       "                 PC1       PC2       PC3       PC4\n",
       "Alabama     0.985566  1.133392 -0.444269  0.156267\n",
       "Alaska      1.950138  1.073213  2.040003 -0.438583\n",
       "Arizona     1.763164 -0.745957  0.054781 -0.834653\n",
       "Arkansas   -0.141420  1.119797  0.114574 -0.182811\n",
       "California  2.523980 -1.542934  0.598557 -0.341996"
      ]
     },
     "execution_count": 28,
     "metadata": {},
     "output_type": "execute_result"
    }
   ],
   "source": [
    "proyecciones = pca_pipe.transform(X=datos)\n",
    "proyecciones = pd.DataFrame(\n",
    "    proyecciones,\n",
    "    columns = ['PC1', 'PC2', 'PC3', 'PC4'],\n",
    "    index   = datos.index\n",
    ")\n",
    "proyecciones.head()"
   ]
  },
  {
   "cell_type": "markdown",
   "id": "074701f8",
   "metadata": {},
   "source": [
    "La transformación es el resultado de multiplicar los vectores que definen cada componente con el valor de las variables."
   ]
  },
  {
   "attachments": {},
   "cell_type": "markdown",
   "id": "4510ba2d",
   "metadata": {},
   "source": [
    "#### Muchas gracias por la atención"
   ]
  },
  {
   "cell_type": "markdown",
   "id": "f825d92d",
   "metadata": {},
   "source": [
    "# Referencias"
   ]
  },
  {
   "cell_type": "markdown",
   "id": "47a73307",
   "metadata": {},
   "source": [
    "[1] Análisis de Componentes Principales (Principal Component Analysis, PCA) y t-SNE. \n",
    "https://rpubs.com/Joaquin_AR/287787\n",
    "\n",
    "[2] PCA con Python https://www.cienciadedatos.net/documentos/py19-pca-python.html"
   ]
  }
 ],
 "metadata": {
  "kernelspec": {
   "display_name": "Python 3 (ipykernel)",
   "language": "python",
   "name": "python3"
  },
  "language_info": {
   "codemirror_mode": {
    "name": "ipython",
    "version": 3
   },
   "file_extension": ".py",
   "mimetype": "text/x-python",
   "name": "python",
   "nbconvert_exporter": "python",
   "pygments_lexer": "ipython3",
   "version": "3.9.13"
  }
 },
 "nbformat": 4,
 "nbformat_minor": 5
}
